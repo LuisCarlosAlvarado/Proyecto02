{
 "cells": [
  {
   "cell_type": "markdown",
   "metadata": {},
   "source": [
    "# CETES 28, 91, 182, 364 Días "
   ]
  },
  {
   "cell_type": "markdown",
   "metadata": {},
   "source": [
    "# Se van a capitalizar los 4 diferentes CETES que ofrece el gobierno, con el fin de ver cual es mas efectivo para nuestras necesidades.\n"
   ]
  },
  {
   "cell_type": "markdown",
   "metadata": {},
   "source": [
    "# La tasa de interes no es fija, esto porque las tasas de interes cambian cada semana."
   ]
  },
  {
   "cell_type": "code",
   "execution_count": 1,
   "metadata": {},
   "outputs": [],
   "source": [
    "import numpy as np\n",
    "import matplotlib.pyplot as plt\n",
    "%matplotlib inline\n",
    "from ipywidgets import *"
   ]
  },
  {
   "cell_type": "markdown",
   "metadata": {},
   "source": [
    "## CETES 28"
   ]
  },
  {
   "cell_type": "code",
   "execution_count": null,
   "metadata": {},
   "outputs": [],
   "source": [
    "def interes_compuesto(C0,meta,i):\n",
    "    #Despejamos k\n",
    "    k=np.ceil(np.log(meta/C0)/np.log(1+i)) #Se trunca el periodo hacia arriba\n",
    "    k=k.astype(int)                        #k como entero\n",
    "    \n",
    "    Ck=C0*(1+i)**k                         #Cálculo del capital al periodo k\n",
    "    Ck=round(Ck,2)                         #Redondeo a dos cifras\n",
    "    \n",
    "    #Gráfica\n",
    "    periodos=np.linspace(0,k,k+1)  #Vector de periodos de 0 hasta k\n",
    "    Capitales=C0*(1+i)**periodos   #Vector de Capitales\n",
    "    plt.figure(num=1)              #Se crea la misma figura (mismo identificador)\n",
    "    plt.clf()                      #Se borra el gráfico anterior\n",
    "    plt.plot(periodos,Capitales,'*',ms=10)\n",
    "    plt.xlabel('$k$')\n",
    "    plt.ylabel('$C_k$')\n",
    "    plt.plot([0,k],[meta,meta],'--k') #Se grafica la meta\n",
    "    plt.grid()\n",
    "    plt.show()\n",
    "    print('El número de meses requeridos para alcanzar ',meta, ' pesos, es: ',k,\n",
    "      '. El capital generado es de ',Ck,' pesos.',sep='')\n",
    "    \n",
    "interact_manual(interes_compuesto,meta=(int(input(\"Monto deseado\"))),C0=fixed(int(input(\"Capital inicial\"))),i=fixed(float(input(\"Tasa de interes\"))))"
   ]
  },
  {
   "cell_type": "markdown",
   "metadata": {},
   "source": [
    "## CETES 91"
   ]
  },
  {
   "cell_type": "code",
   "execution_count": null,
   "metadata": {},
   "outputs": [],
   "source": [
    "def interes_compuesto(C0,meta,i):\n",
    "    #Despejamos k\n",
    "    k=np.ceil(np.log(meta/C0)/np.log(1+i)) #Se trunca el periodo hacia arriba\n",
    "    k=k.astype(int)                        #k como entero\n",
    "    \n",
    "    Ck=C0*(1+i)**k                         #Cálculo del capital al periodo k\n",
    "    Ck=round(Ck,2)                         #Redondeo a dos cifras\n",
    "    \n",
    "    #Gráfica\n",
    "    periodos=np.linspace(0,k,k+1)  #Vector de periodos de 0 hasta k\n",
    "    Capitales=C0*(1+i)**periodos   #Vector de Capitales\n",
    "    plt.figure(num=1)              #Se crea la misma figura (mismo identificador)\n",
    "    plt.clf()                      #Se borra el gráfico anterior\n",
    "    plt.plot(periodos,Capitales,'*',ms=10)\n",
    "    plt.xlabel('$k$')\n",
    "    plt.ylabel('$C_k$')\n",
    "    plt.plot([0,k],[meta,meta],'--k') #Se grafica la meta\n",
    "    plt.grid()\n",
    "    plt.show()\n",
    "    print('El número de meses requeridos para alcanzar ',meta, ' pesos, es: ',k,\n",
    "      '. El capital generado es de ',Ck,' pesos.',sep='')\n",
    "    \n",
    "interact_manual(interes_compuesto,meta=(int(input(\"Monto deseado\"))),C0=fixed(int(input(\"Capital inicial\"))),i=fixed(float(input(\"Tasa de interes\"))))"
   ]
  },
  {
   "cell_type": "markdown",
   "metadata": {},
   "source": [
    "## CETES 182"
   ]
  },
  {
   "cell_type": "code",
   "execution_count": null,
   "metadata": {},
   "outputs": [],
   "source": [
    "def interes_compuesto(C0,meta,i):\n",
    "    #Despejamos k\n",
    "    k=np.ceil(np.log(meta/C0)/np.log(1+i)) #Se trunca el periodo hacia arriba\n",
    "    k=k.astype(int)                        #k como entero\n",
    "    \n",
    "    Ck=C0*(1+i)**k                         #Cálculo del capital al periodo k\n",
    "    Ck=round(Ck,2)                         #Redondeo a dos cifras\n",
    "    \n",
    "    #Gráfica\n",
    "    periodos=np.linspace(0,k,k+1)  #Vector de periodos de 0 hasta k\n",
    "    Capitales=C0*(1+i)**periodos   #Vector de Capitales\n",
    "    plt.figure(num=1)              #Se crea la misma figura (mismo identificador)\n",
    "    plt.clf()                      #Se borra el gráfico anterior\n",
    "    plt.plot(periodos,Capitales,'*',ms=10)\n",
    "    plt.xlabel('$k$')\n",
    "    plt.ylabel('$C_k$')\n",
    "    plt.plot([0,k],[meta,meta],'--k') #Se grafica la meta\n",
    "    plt.grid()\n",
    "    plt.show()\n",
    "    print('El número de meses requeridos para alcanzar ',meta, ' pesos, es: ',k,\n",
    "      '. El capital generado es de ',Ck,' pesos.',sep='')\n",
    "    \n",
    "interact_manual(interes_compuesto,meta=(int(input(\"Monto deseado\"))),C0=fixed(int(input(\"Capital inicial\"))),i=fixed(float(input(\"Tasa de interes\"))))"
   ]
  },
  {
   "cell_type": "markdown",
   "metadata": {},
   "source": [
    "## CETES 364"
   ]
  },
  {
   "cell_type": "code",
   "execution_count": null,
   "metadata": {},
   "outputs": [],
   "source": [
    "def interes_compuesto(C0,meta,i):\n",
    "    #Despejamos k\n",
    "    k=np.ceil(np.log(meta/C0)/np.log(1+i)) #Se trunca el periodo hacia arriba\n",
    "    k=k.astype(int)                        #k como entero\n",
    "    \n",
    "    Ck=C0*(1+i)**k                         #Cálculo del capital al periodo k\n",
    "    Ck=round(Ck,2)                         #Redondeo a dos cifras\n",
    "    \n",
    "    #Gráfica\n",
    "    periodos=np.linspace(0,k,k+1)  #Vector de periodos de 0 hasta k\n",
    "    Capitales=C0*(1+i)**periodos   #Vector de Capitales\n",
    "    plt.figure(num=1)              #Se crea la misma figura (mismo identificador)\n",
    "    plt.clf()                      #Se borra el gráfico anterior\n",
    "    plt.plot(periodos,Capitales,'*',ms=10)\n",
    "    plt.xlabel('$k$')\n",
    "    plt.ylabel('$C_k$')\n",
    "    plt.plot([0,k],[meta,meta],'--k') #Se grafica la meta\n",
    "    plt.grid()\n",
    "    plt.show()\n",
    "    print('El número de meses requeridos para alcanzar ',meta, ' pesos, es: ',k,\n",
    "      '. El capital generado es de ',Ck,' pesos.',sep='')\n",
    "    \n",
    "interact_manual(interes_compuesto,meta=(int(input(\"Monto deseado\"))),C0=fixed(int(input(\"Capital inicial\"))),i=fixed(float(input(\"Tasa de interes\"))))"
   ]
  },
  {
   "cell_type": "markdown",
   "metadata": {},
   "source": [
    "# Conclusión"
   ]
  },
  {
   "cell_type": "code",
   "execution_count": null,
   "metadata": {},
   "outputs": [],
   "source": []
  }
 ],
 "metadata": {
  "kernelspec": {
   "display_name": "Python 3",
   "language": "python",
   "name": "python3"
  },
  "language_info": {
   "codemirror_mode": {
    "name": "ipython",
    "version": 3
   },
   "file_extension": ".py",
   "mimetype": "text/x-python",
   "name": "python",
   "nbconvert_exporter": "python",
   "pygments_lexer": "ipython3",
   "version": "3.7.3"
  }
 },
 "nbformat": 4,
 "nbformat_minor": 2
}
