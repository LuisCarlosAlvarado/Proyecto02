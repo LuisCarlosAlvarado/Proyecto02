{
 "cells": [
  {
   "cell_type": "code",
   "execution_count": 7,
   "metadata": {},
   "outputs": [
    {
     "name": "stdout",
     "output_type": "stream",
     "text": [
      "Capital inicial1000\n",
      "Tasa de interes0.074\n",
      "Monto deseado45000\n",
      "El número de meses requeridos para alcanzar 45000 pesos, es: 54.0. El capital generado es de 47231.44 pesos.\n"
     ]
    }
   ],
   "source": [
    "import numpy as np\n",
    "import matplotlib.pyplot as plt\n",
    "%matplotlib inline\n",
    "from ipywidgets import *\n",
    "#Datos\n",
    "C0= int(input(\"Capital inicial\"))\n",
    "i = float(input(\"Tasa de interes\"))\n",
    "meta = int(input(\"Monto deseado\"))\n",
    "#Despejamos k\n",
    "k=np.ceil(np.log(meta/C0)/np.log(1+i))\n",
    "#Cálculo del capital al periodo k\n",
    "Ck=round(C0*(1+i)**k,2)\n",
    "\n",
    "print('El número de meses requeridos para alcanzar ',meta, ' pesos, es: ',k,\n",
    "      '. El capital generado es de ',Ck,' pesos.',sep='')"
   ]
  },
  {
   "cell_type": "code",
   "execution_count": 11,
   "metadata": {},
   "outputs": [
    {
     "name": "stdout",
     "output_type": "stream",
     "text": [
      "Monto deseado45000\n",
      "Capital inicial1000\n",
      "Tasa de interes0.074\n"
     ]
    },
    {
     "data": {
      "application/vnd.jupyter.widget-view+json": {
       "model_id": "0cf6399b314940238e52802a1789f952",
       "version_major": 2,
       "version_minor": 0
      },
      "text/plain": [
       "interactive(children=(IntSlider(value=45000, description='meta', max=135000, min=-45000), Button(description='…"
      ]
     },
     "metadata": {},
     "output_type": "display_data"
    },
    {
     "data": {
      "text/plain": [
       "<function __main__.interes_compuesto(C0, meta, i)>"
      ]
     },
     "execution_count": 11,
     "metadata": {},
     "output_type": "execute_result"
    }
   ],
   "source": [
    "def interes_compuesto(C0,meta,i):\n",
    "    #Despejamos k\n",
    "    k=np.ceil(np.log(meta/C0)/np.log(1+i)) #Se trunca el periodo hacia arriba\n",
    "    k=k.astype(int)                        #k como entero\n",
    "    \n",
    "    Ck=C0*(1+i)**k                         #Cálculo del capital al periodo k\n",
    "    Ck=round(Ck,2)                         #Redondeo a dos cifras\n",
    "    \n",
    "    #Gráfica\n",
    "    periodos=np.linspace(0,k,k+1)  #Vector de periodos de 0 hasta k\n",
    "    Capitales=C0*(1+i)**periodos   #Vector de Capitales\n",
    "    plt.figure(num=1)              #Se crea la misma figura (mismo identificador)\n",
    "    plt.clf()                      #Se borra el gráfico anterior\n",
    "    plt.plot(periodos,Capitales,'*',ms=10)\n",
    "    plt.xlabel('$k$')\n",
    "    plt.ylabel('$C_k$')\n",
    "    plt.plot([0,k],[meta,meta],'--k') #Se grafica la meta\n",
    "    plt.grid()\n",
    "    plt.show()\n",
    "    print('El número de meses requeridos para alcanzar ',meta, ' pesos, es: ',k,\n",
    "      '. El capital generado es de ',Ck,' pesos.',sep='')\n",
    "    \n",
    "interact_manual(interes_compuesto,meta=(int(input(\"Monto deseado\"))),C0=fixed(int(input(\"Capital inicial\"))),i=fixed(float(input(\"Tasa de interes\"))))   "
   ]
  },
  {
   "cell_type": "code",
   "execution_count": null,
   "metadata": {},
   "outputs": [],
   "source": []
  }
 ],
 "metadata": {
  "kernelspec": {
   "display_name": "Python 3",
   "language": "python",
   "name": "python3"
  },
  "language_info": {
   "codemirror_mode": {
    "name": "ipython",
    "version": 3
   },
   "file_extension": ".py",
   "mimetype": "text/x-python",
   "name": "python",
   "nbconvert_exporter": "python",
   "pygments_lexer": "ipython3",
   "version": "3.7.3"
  }
 },
 "nbformat": 4,
 "nbformat_minor": 2
}
